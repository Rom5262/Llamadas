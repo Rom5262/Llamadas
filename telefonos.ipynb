{
 "cells": [
  {
   "cell_type": "code",
   "execution_count": null,
   "id": "352a8a14",
   "metadata": {},
   "outputs": [],
   "source": []
  },
  {
   "cell_type": "code",
   "execution_count": 1,
   "id": "f160052e",
   "metadata": {},
   "outputs": [],
   "source": [
    "import pandas as pd\n",
    "import seaborn as sns\n",
    "from matplotlib import pyplot as plt\n",
    "from math import factorial\n",
    "import numpy as np\n",
    "from scipy import stats as st"
   ]
  },
  {
   "cell_type": "code",
   "execution_count": 2,
   "id": "f3bf4491",
   "metadata": {},
   "outputs": [],
   "source": [
    "calls= pd.read_csv('datos/megaline_calls.csv')"
   ]
  },
  {
   "cell_type": "code",
   "execution_count": 3,
   "id": "9be379b7",
   "metadata": {},
   "outputs": [
    {
     "data": {
      "text/plain": [
       "1"
      ]
     },
     "execution_count": 3,
     "metadata": {},
     "output_type": "execute_result"
    }
   ],
   "source": [
    "internet = pd.read_csv('datos/megaline_internet.csv')\n",
    "1"
   ]
  },
  {
   "cell_type": "code",
   "execution_count": 4,
   "id": "7e93c4dc",
   "metadata": {},
   "outputs": [],
   "source": [
    "messages = pd.read_csv('datos/megaline_messages.csv')"
   ]
  },
  {
   "cell_type": "code",
   "execution_count": 5,
   "id": "cec7d1ab",
   "metadata": {},
   "outputs": [],
   "source": [
    "plans = pd.read_csv('datos/megaline_plans.csv')"
   ]
  },
  {
   "cell_type": "code",
   "execution_count": 6,
   "id": "5049e36d",
   "metadata": {},
   "outputs": [],
   "source": [
    "users = pd.read_csv('datos/megaline_users.csv')"
   ]
  },
  {
   "cell_type": "markdown",
   "id": "9de474ed",
   "metadata": {},
   "source": [
    "<p style=\"color:yellow\n",
    "; font-family:Georgia; font-size:22px; font-style:italic;\"> TARIFAS. </p>\n"
   ]
  },
  {
   "cell_type": "code",
   "execution_count": 7,
   "id": "a8ebd303",
   "metadata": {},
   "outputs": [
    {
     "name": "stdout",
     "output_type": "stream",
     "text": [
      "<class 'pandas.core.frame.DataFrame'>\n",
      "RangeIndex: 2 entries, 0 to 1\n",
      "Data columns (total 8 columns):\n",
      " #   Column                 Non-Null Count  Dtype  \n",
      "---  ------                 --------------  -----  \n",
      " 0   messages_included      2 non-null      int64  \n",
      " 1   mb_per_month_included  2 non-null      int64  \n",
      " 2   minutes_included       2 non-null      int64  \n",
      " 3   usd_monthly_pay        2 non-null      int64  \n",
      " 4   usd_per_gb             2 non-null      int64  \n",
      " 5   usd_per_message        2 non-null      float64\n",
      " 6   usd_per_minute         2 non-null      float64\n",
      " 7   plan_name              2 non-null      object \n",
      "dtypes: float64(2), int64(5), object(1)\n",
      "memory usage: 260.0+ bytes\n"
     ]
    }
   ],
   "source": [
    "plans.info()"
   ]
  },
  {
   "cell_type": "code",
   "execution_count": 8,
   "id": "a573cc89",
   "metadata": {},
   "outputs": [
    {
     "data": {
      "text/html": [
       "<div>\n",
       "<style scoped>\n",
       "    .dataframe tbody tr th:only-of-type {\n",
       "        vertical-align: middle;\n",
       "    }\n",
       "\n",
       "    .dataframe tbody tr th {\n",
       "        vertical-align: top;\n",
       "    }\n",
       "\n",
       "    .dataframe thead th {\n",
       "        text-align: right;\n",
       "    }\n",
       "</style>\n",
       "<table border=\"1\" class=\"dataframe\">\n",
       "  <thead>\n",
       "    <tr style=\"text-align: right;\">\n",
       "      <th></th>\n",
       "      <th>messages_included</th>\n",
       "      <th>mb_per_month_included</th>\n",
       "      <th>minutes_included</th>\n",
       "      <th>usd_monthly_pay</th>\n",
       "      <th>usd_per_gb</th>\n",
       "      <th>usd_per_message</th>\n",
       "      <th>usd_per_minute</th>\n",
       "      <th>plan_name</th>\n",
       "    </tr>\n",
       "  </thead>\n",
       "  <tbody>\n",
       "    <tr>\n",
       "      <th>0</th>\n",
       "      <td>50</td>\n",
       "      <td>15360</td>\n",
       "      <td>500</td>\n",
       "      <td>20</td>\n",
       "      <td>10</td>\n",
       "      <td>0.03</td>\n",
       "      <td>0.03</td>\n",
       "      <td>surf</td>\n",
       "    </tr>\n",
       "    <tr>\n",
       "      <th>1</th>\n",
       "      <td>1000</td>\n",
       "      <td>30720</td>\n",
       "      <td>3000</td>\n",
       "      <td>70</td>\n",
       "      <td>7</td>\n",
       "      <td>0.01</td>\n",
       "      <td>0.01</td>\n",
       "      <td>ultimate</td>\n",
       "    </tr>\n",
       "  </tbody>\n",
       "</table>\n",
       "</div>"
      ],
      "text/plain": [
       "   messages_included  mb_per_month_included  minutes_included  \\\n",
       "0                 50                  15360               500   \n",
       "1               1000                  30720              3000   \n",
       "\n",
       "   usd_monthly_pay  usd_per_gb  usd_per_message  usd_per_minute plan_name  \n",
       "0               20          10             0.03            0.03      surf  \n",
       "1               70           7             0.01            0.01  ultimate  "
      ]
     },
     "execution_count": 8,
     "metadata": {},
     "output_type": "execute_result"
    }
   ],
   "source": [
    "plans.head()"
   ]
  },
  {
   "cell_type": "code",
   "execution_count": 9,
   "id": "97818197",
   "metadata": {},
   "outputs": [
    {
     "name": "stdout",
     "output_type": "stream",
     "text": [
      "messages_included        0\n",
      "mb_per_month_included    0\n",
      "minutes_included         0\n",
      "usd_monthly_pay          0\n",
      "usd_per_gb               0\n",
      "usd_per_message          0\n",
      "usd_per_minute           0\n",
      "plan_name                0\n",
      "dtype: int64\n"
     ]
    }
   ],
   "source": [
    "print(plans.isnull().sum())"
   ]
  },
  {
   "cell_type": "code",
   "execution_count": 10,
   "id": "3fbf2448",
   "metadata": {},
   "outputs": [
    {
     "data": {
      "text/plain": [
       "np.int64(0)"
      ]
     },
     "execution_count": 10,
     "metadata": {},
     "output_type": "execute_result"
    }
   ],
   "source": [
    "plans.duplicated().sum()"
   ]
  },
  {
   "cell_type": "code",
   "execution_count": 11,
   "id": "e1a81d15",
   "metadata": {},
   "outputs": [
    {
     "name": "stdout",
     "output_type": "stream",
     "text": [
      "0\n"
     ]
    }
   ],
   "source": [
    "plans.drop_duplicates(inplace=True)\n",
    "print(plans.duplicated().sum())"
   ]
  },
  {
   "cell_type": "code",
   "execution_count": 12,
   "id": "66cc5d7b",
   "metadata": {},
   "outputs": [
    {
     "data": {
      "text/plain": [
       "Index(['messages_included', 'mb_per_month_included', 'minutes_included',\n",
       "       'usd_monthly_pay', 'usd_per_gb', 'usd_per_message', 'usd_per_minute',\n",
       "       'plan_name'],\n",
       "      dtype='object')"
      ]
     },
     "execution_count": 12,
     "metadata": {},
     "output_type": "execute_result"
    }
   ],
   "source": [
    "plans.columns"
   ]
  },
  {
   "cell_type": "markdown",
   "id": "4707de1e",
   "metadata": {},
   "source": [
    "Colocaremos la columna de \"plan_name\" como la primera"
   ]
  },
  {
   "cell_type": "code",
   "execution_count": 13,
   "id": "026128a7",
   "metadata": {},
   "outputs": [
    {
     "name": "stdout",
     "output_type": "stream",
     "text": [
      "  plan_name  messages_included  mb_per_month_included  minutes_included  \\\n",
      "0      surf                 50                  15360               500   \n",
      "1  ultimate               1000                  30720              3000   \n",
      "\n",
      "   usd_monthly_pay  usd_per_gb  usd_per_message  usd_per_minute  \n",
      "0               20          10             0.03            0.03  \n",
      "1               70           7             0.01            0.01  \n"
     ]
    }
   ],
   "source": [
    "columns = ['plan_name'] + [col for col in plans.columns if col != 'plan_name']\n",
    "plans = plans[columns]\n",
    "print(plans)"
   ]
  },
  {
   "cell_type": "markdown",
   "id": "a3d32cae",
   "metadata": {},
   "source": [
    "Verificaremos la Eficiencia de cadas plan tarifario"
   ]
  },
  {
   "cell_type": "code",
   "execution_count": 14,
   "id": "aec7286b",
   "metadata": {},
   "outputs": [
    {
     "name": "stdout",
     "output_type": "stream",
     "text": [
      "  plan_name    efficiency\n",
      "1  ultimate  1.316571e+06\n",
      "0      surf  3.840000e+05\n"
     ]
    }
   ],
   "source": [
    "plans['efficiency'] = (plans['mb_per_month_included'] * plans['minutes_included']) / plans['usd_monthly_pay']\n",
    "\n",
    "print(plans[['plan_name', 'efficiency']].sort_values(by='efficiency', ascending=False))"
   ]
  },
  {
   "cell_type": "markdown",
   "id": "25470df8",
   "metadata": {},
   "source": [
    "El plan ‘ultimate’ ofrece más beneficios en su costo mensual, mayor valor por dinero, un\n",
    "aprovechamiento optimo."
   ]
  },
  {
   "cell_type": "markdown",
   "id": "a771a3bc",
   "metadata": {},
   "source": [
    "<p style=\"color:yellow\n",
    "; font-family:Georgia; font-size:22px; font-style:italic;\"> USUARIOS. </p>"
   ]
  },
  {
   "cell_type": "code",
   "execution_count": 15,
   "id": "c113a2be",
   "metadata": {},
   "outputs": [
    {
     "name": "stdout",
     "output_type": "stream",
     "text": [
      "<class 'pandas.core.frame.DataFrame'>\n",
      "RangeIndex: 500 entries, 0 to 499\n",
      "Data columns (total 8 columns):\n",
      " #   Column      Non-Null Count  Dtype \n",
      "---  ------      --------------  ----- \n",
      " 0   user_id     500 non-null    int64 \n",
      " 1   first_name  500 non-null    object\n",
      " 2   last_name   500 non-null    object\n",
      " 3   age         500 non-null    int64 \n",
      " 4   city        500 non-null    object\n",
      " 5   reg_date    500 non-null    object\n",
      " 6   plan        500 non-null    object\n",
      " 7   churn_date  34 non-null     object\n",
      "dtypes: int64(2), object(6)\n",
      "memory usage: 31.4+ KB\n"
     ]
    }
   ],
   "source": [
    "users.info()"
   ]
  },
  {
   "cell_type": "code",
   "execution_count": 16,
   "id": "877549f4",
   "metadata": {},
   "outputs": [
    {
     "name": "stdout",
     "output_type": "stream",
     "text": [
      "<class 'pandas.core.frame.DataFrame'>\n",
      "RangeIndex: 500 entries, 0 to 499\n",
      "Data columns (total 8 columns):\n",
      " #   Column      Non-Null Count  Dtype \n",
      "---  ------      --------------  ----- \n",
      " 0   user_id     500 non-null    int64 \n",
      " 1   first_name  500 non-null    object\n",
      " 2   last_name   500 non-null    object\n",
      " 3   age         500 non-null    int64 \n",
      " 4   city        500 non-null    object\n",
      " 5   reg_date    500 non-null    object\n",
      " 6   plan        500 non-null    object\n",
      " 7   churn_date  34 non-null     object\n",
      "dtypes: int64(2), object(6)\n",
      "memory usage: 31.4+ KB\n"
     ]
    }
   ],
   "source": [
    "\n",
    "users.info()"
   ]
  },
  {
   "cell_type": "code",
   "execution_count": 17,
   "id": "547d12e3",
   "metadata": {},
   "outputs": [
    {
     "name": "stdout",
     "output_type": "stream",
     "text": [
      "user_id         0\n",
      "first_name      0\n",
      "last_name       0\n",
      "age             0\n",
      "city            0\n",
      "reg_date        0\n",
      "plan            0\n",
      "churn_date    466\n",
      "dtype: int64\n"
     ]
    }
   ],
   "source": [
    "print(users.isnull().sum())"
   ]
  },
  {
   "cell_type": "code",
   "execution_count": 18,
   "id": "fa351b89",
   "metadata": {},
   "outputs": [
    {
     "data": {
      "text/plain": [
       "np.int64(0)"
      ]
     },
     "execution_count": 18,
     "metadata": {},
     "output_type": "execute_result"
    }
   ],
   "source": [
    "users.duplicated().sum()"
   ]
  },
  {
   "cell_type": "code",
   "execution_count": 19,
   "id": "8cac4d79",
   "metadata": {},
   "outputs": [
    {
     "name": "stdout",
     "output_type": "stream",
     "text": [
      "0\n"
     ]
    }
   ],
   "source": [
    "users.drop_duplicates(inplace=True)\n",
    "print(users.duplicated().sum())"
   ]
  },
  {
   "cell_type": "code",
   "execution_count": 20,
   "id": "c10c9eca",
   "metadata": {},
   "outputs": [
    {
     "data": {
      "text/html": [
       "<div>\n",
       "<style scoped>\n",
       "    .dataframe tbody tr th:only-of-type {\n",
       "        vertical-align: middle;\n",
       "    }\n",
       "\n",
       "    .dataframe tbody tr th {\n",
       "        vertical-align: top;\n",
       "    }\n",
       "\n",
       "    .dataframe thead th {\n",
       "        text-align: right;\n",
       "    }\n",
       "</style>\n",
       "<table border=\"1\" class=\"dataframe\">\n",
       "  <thead>\n",
       "    <tr style=\"text-align: right;\">\n",
       "      <th></th>\n",
       "      <th>user_id</th>\n",
       "      <th>first_name</th>\n",
       "      <th>last_name</th>\n",
       "      <th>age</th>\n",
       "      <th>city</th>\n",
       "      <th>reg_date</th>\n",
       "      <th>plan</th>\n",
       "      <th>churn_date</th>\n",
       "    </tr>\n",
       "  </thead>\n",
       "  <tbody>\n",
       "    <tr>\n",
       "      <th>0</th>\n",
       "      <td>1000</td>\n",
       "      <td>Anamaria</td>\n",
       "      <td>Bauer</td>\n",
       "      <td>45</td>\n",
       "      <td>Atlanta-Sandy Springs-Roswell, GA MSA</td>\n",
       "      <td>2018-12-24</td>\n",
       "      <td>ultimate</td>\n",
       "      <td>NaN</td>\n",
       "    </tr>\n",
       "    <tr>\n",
       "      <th>1</th>\n",
       "      <td>1001</td>\n",
       "      <td>Mickey</td>\n",
       "      <td>Wilkerson</td>\n",
       "      <td>28</td>\n",
       "      <td>Seattle-Tacoma-Bellevue, WA MSA</td>\n",
       "      <td>2018-08-13</td>\n",
       "      <td>surf</td>\n",
       "      <td>NaN</td>\n",
       "    </tr>\n",
       "    <tr>\n",
       "      <th>2</th>\n",
       "      <td>1002</td>\n",
       "      <td>Carlee</td>\n",
       "      <td>Hoffman</td>\n",
       "      <td>36</td>\n",
       "      <td>Las Vegas-Henderson-Paradise, NV MSA</td>\n",
       "      <td>2018-10-21</td>\n",
       "      <td>surf</td>\n",
       "      <td>NaN</td>\n",
       "    </tr>\n",
       "    <tr>\n",
       "      <th>3</th>\n",
       "      <td>1003</td>\n",
       "      <td>Reynaldo</td>\n",
       "      <td>Jenkins</td>\n",
       "      <td>52</td>\n",
       "      <td>Tulsa, OK MSA</td>\n",
       "      <td>2018-01-28</td>\n",
       "      <td>surf</td>\n",
       "      <td>NaN</td>\n",
       "    </tr>\n",
       "    <tr>\n",
       "      <th>4</th>\n",
       "      <td>1004</td>\n",
       "      <td>Leonila</td>\n",
       "      <td>Thompson</td>\n",
       "      <td>40</td>\n",
       "      <td>Seattle-Tacoma-Bellevue, WA MSA</td>\n",
       "      <td>2018-05-23</td>\n",
       "      <td>surf</td>\n",
       "      <td>NaN</td>\n",
       "    </tr>\n",
       "    <tr>\n",
       "      <th>5</th>\n",
       "      <td>1005</td>\n",
       "      <td>Livia</td>\n",
       "      <td>Shields</td>\n",
       "      <td>31</td>\n",
       "      <td>Dallas-Fort Worth-Arlington, TX MSA</td>\n",
       "      <td>2018-11-29</td>\n",
       "      <td>surf</td>\n",
       "      <td>NaN</td>\n",
       "    </tr>\n",
       "    <tr>\n",
       "      <th>6</th>\n",
       "      <td>1006</td>\n",
       "      <td>Jesusa</td>\n",
       "      <td>Bradford</td>\n",
       "      <td>73</td>\n",
       "      <td>San Francisco-Oakland-Berkeley, CA MSA</td>\n",
       "      <td>2018-11-27</td>\n",
       "      <td>ultimate</td>\n",
       "      <td>2018-12-18</td>\n",
       "    </tr>\n",
       "    <tr>\n",
       "      <th>7</th>\n",
       "      <td>1007</td>\n",
       "      <td>Eusebio</td>\n",
       "      <td>Welch</td>\n",
       "      <td>42</td>\n",
       "      <td>Grand Rapids-Kentwood, MI MSA</td>\n",
       "      <td>2018-07-11</td>\n",
       "      <td>surf</td>\n",
       "      <td>NaN</td>\n",
       "    </tr>\n",
       "    <tr>\n",
       "      <th>8</th>\n",
       "      <td>1008</td>\n",
       "      <td>Emely</td>\n",
       "      <td>Hoffman</td>\n",
       "      <td>53</td>\n",
       "      <td>Orlando-Kissimmee-Sanford, FL MSA</td>\n",
       "      <td>2018-08-03</td>\n",
       "      <td>ultimate</td>\n",
       "      <td>NaN</td>\n",
       "    </tr>\n",
       "    <tr>\n",
       "      <th>9</th>\n",
       "      <td>1009</td>\n",
       "      <td>Gerry</td>\n",
       "      <td>Little</td>\n",
       "      <td>19</td>\n",
       "      <td>San Jose-Sunnyvale-Santa Clara, CA MSA</td>\n",
       "      <td>2018-04-22</td>\n",
       "      <td>surf</td>\n",
       "      <td>NaN</td>\n",
       "    </tr>\n",
       "  </tbody>\n",
       "</table>\n",
       "</div>"
      ],
      "text/plain": [
       "   user_id first_name  last_name  age                                    city  \\\n",
       "0     1000   Anamaria      Bauer   45   Atlanta-Sandy Springs-Roswell, GA MSA   \n",
       "1     1001     Mickey  Wilkerson   28         Seattle-Tacoma-Bellevue, WA MSA   \n",
       "2     1002     Carlee    Hoffman   36    Las Vegas-Henderson-Paradise, NV MSA   \n",
       "3     1003   Reynaldo    Jenkins   52                           Tulsa, OK MSA   \n",
       "4     1004    Leonila   Thompson   40         Seattle-Tacoma-Bellevue, WA MSA   \n",
       "5     1005      Livia    Shields   31     Dallas-Fort Worth-Arlington, TX MSA   \n",
       "6     1006     Jesusa   Bradford   73  San Francisco-Oakland-Berkeley, CA MSA   \n",
       "7     1007    Eusebio      Welch   42           Grand Rapids-Kentwood, MI MSA   \n",
       "8     1008      Emely    Hoffman   53       Orlando-Kissimmee-Sanford, FL MSA   \n",
       "9     1009      Gerry     Little   19  San Jose-Sunnyvale-Santa Clara, CA MSA   \n",
       "\n",
       "     reg_date      plan  churn_date  \n",
       "0  2018-12-24  ultimate         NaN  \n",
       "1  2018-08-13      surf         NaN  \n",
       "2  2018-10-21      surf         NaN  \n",
       "3  2018-01-28      surf         NaN  \n",
       "4  2018-05-23      surf         NaN  \n",
       "5  2018-11-29      surf         NaN  \n",
       "6  2018-11-27  ultimate  2018-12-18  \n",
       "7  2018-07-11      surf         NaN  \n",
       "8  2018-08-03  ultimate         NaN  \n",
       "9  2018-04-22      surf         NaN  "
      ]
     },
     "execution_count": 20,
     "metadata": {},
     "output_type": "execute_result"
    }
   ],
   "source": [
    "users.head(10)"
   ]
  },
  {
   "cell_type": "markdown",
   "id": "f3e81cbb",
   "metadata": {},
   "source": [
    "<p style=\"color:yellow\n",
    "; font-family:Georgia; font-size:22px; font-style:italic;\"> LLAMADAS. </p>"
   ]
  },
  {
   "cell_type": "code",
   "execution_count": 21,
   "id": "736773b0",
   "metadata": {},
   "outputs": [
    {
     "name": "stdout",
     "output_type": "stream",
     "text": [
      "<class 'pandas.core.frame.DataFrame'>\n",
      "RangeIndex: 137735 entries, 0 to 137734\n",
      "Data columns (total 4 columns):\n",
      " #   Column     Non-Null Count   Dtype  \n",
      "---  ------     --------------   -----  \n",
      " 0   id         137735 non-null  object \n",
      " 1   user_id    137735 non-null  int64  \n",
      " 2   call_date  137735 non-null  object \n",
      " 3   duration   137735 non-null  float64\n",
      "dtypes: float64(1), int64(1), object(2)\n",
      "memory usage: 4.2+ MB\n"
     ]
    }
   ],
   "source": [
    "calls.info()"
   ]
  },
  {
   "cell_type": "code",
   "execution_count": 22,
   "id": "510d50bf",
   "metadata": {},
   "outputs": [
    {
     "name": "stdout",
     "output_type": "stream",
     "text": [
      "id           0\n",
      "user_id      0\n",
      "call_date    0\n",
      "duration     0\n",
      "dtype: int64\n"
     ]
    }
   ],
   "source": [
    "print(calls.isnull().sum())"
   ]
  },
  {
   "cell_type": "code",
   "execution_count": 23,
   "id": "2f70a5c2",
   "metadata": {},
   "outputs": [
    {
     "data": {
      "text/plain": [
       "np.int64(0)"
      ]
     },
     "execution_count": 23,
     "metadata": {},
     "output_type": "execute_result"
    }
   ],
   "source": [
    "calls.duplicated().sum()"
   ]
  },
  {
   "cell_type": "code",
   "execution_count": 24,
   "id": "e8a06fc9",
   "metadata": {},
   "outputs": [
    {
     "name": "stdout",
     "output_type": "stream",
     "text": [
      "0\n"
     ]
    }
   ],
   "source": [
    "calls.drop_duplicates(inplace=True)\n",
    "print(calls.duplicated().sum())"
   ]
  },
  {
   "cell_type": "code",
   "execution_count": 25,
   "id": "6b6402ba",
   "metadata": {},
   "outputs": [
    {
     "data": {
      "text/html": [
       "<div>\n",
       "<style scoped>\n",
       "    .dataframe tbody tr th:only-of-type {\n",
       "        vertical-align: middle;\n",
       "    }\n",
       "\n",
       "    .dataframe tbody tr th {\n",
       "        vertical-align: top;\n",
       "    }\n",
       "\n",
       "    .dataframe thead th {\n",
       "        text-align: right;\n",
       "    }\n",
       "</style>\n",
       "<table border=\"1\" class=\"dataframe\">\n",
       "  <thead>\n",
       "    <tr style=\"text-align: right;\">\n",
       "      <th></th>\n",
       "      <th>id</th>\n",
       "      <th>user_id</th>\n",
       "      <th>call_date</th>\n",
       "      <th>duration</th>\n",
       "    </tr>\n",
       "  </thead>\n",
       "  <tbody>\n",
       "    <tr>\n",
       "      <th>0</th>\n",
       "      <td>1000_93</td>\n",
       "      <td>1000</td>\n",
       "      <td>2018-12-27</td>\n",
       "      <td>8.52</td>\n",
       "    </tr>\n",
       "    <tr>\n",
       "      <th>1</th>\n",
       "      <td>1000_145</td>\n",
       "      <td>1000</td>\n",
       "      <td>2018-12-27</td>\n",
       "      <td>13.66</td>\n",
       "    </tr>\n",
       "    <tr>\n",
       "      <th>2</th>\n",
       "      <td>1000_247</td>\n",
       "      <td>1000</td>\n",
       "      <td>2018-12-27</td>\n",
       "      <td>14.48</td>\n",
       "    </tr>\n",
       "    <tr>\n",
       "      <th>3</th>\n",
       "      <td>1000_309</td>\n",
       "      <td>1000</td>\n",
       "      <td>2018-12-28</td>\n",
       "      <td>5.76</td>\n",
       "    </tr>\n",
       "    <tr>\n",
       "      <th>4</th>\n",
       "      <td>1000_380</td>\n",
       "      <td>1000</td>\n",
       "      <td>2018-12-30</td>\n",
       "      <td>4.22</td>\n",
       "    </tr>\n",
       "    <tr>\n",
       "      <th>5</th>\n",
       "      <td>1000_388</td>\n",
       "      <td>1000</td>\n",
       "      <td>2018-12-31</td>\n",
       "      <td>2.20</td>\n",
       "    </tr>\n",
       "    <tr>\n",
       "      <th>6</th>\n",
       "      <td>1000_510</td>\n",
       "      <td>1000</td>\n",
       "      <td>2018-12-27</td>\n",
       "      <td>5.75</td>\n",
       "    </tr>\n",
       "    <tr>\n",
       "      <th>7</th>\n",
       "      <td>1000_521</td>\n",
       "      <td>1000</td>\n",
       "      <td>2018-12-28</td>\n",
       "      <td>14.18</td>\n",
       "    </tr>\n",
       "    <tr>\n",
       "      <th>8</th>\n",
       "      <td>1000_530</td>\n",
       "      <td>1000</td>\n",
       "      <td>2018-12-28</td>\n",
       "      <td>5.77</td>\n",
       "    </tr>\n",
       "    <tr>\n",
       "      <th>9</th>\n",
       "      <td>1000_544</td>\n",
       "      <td>1000</td>\n",
       "      <td>2018-12-26</td>\n",
       "      <td>4.40</td>\n",
       "    </tr>\n",
       "  </tbody>\n",
       "</table>\n",
       "</div>"
      ],
      "text/plain": [
       "         id  user_id   call_date  duration\n",
       "0   1000_93     1000  2018-12-27      8.52\n",
       "1  1000_145     1000  2018-12-27     13.66\n",
       "2  1000_247     1000  2018-12-27     14.48\n",
       "3  1000_309     1000  2018-12-28      5.76\n",
       "4  1000_380     1000  2018-12-30      4.22\n",
       "5  1000_388     1000  2018-12-31      2.20\n",
       "6  1000_510     1000  2018-12-27      5.75\n",
       "7  1000_521     1000  2018-12-28     14.18\n",
       "8  1000_530     1000  2018-12-28      5.77\n",
       "9  1000_544     1000  2018-12-26      4.40"
      ]
     },
     "execution_count": 25,
     "metadata": {},
     "output_type": "execute_result"
    }
   ],
   "source": [
    "calls.head(10)"
   ]
  },
  {
   "cell_type": "markdown",
   "id": "652c60c5",
   "metadata": {},
   "source": [
    "Calcularemos la duracion por llamada"
   ]
  },
  {
   "cell_type": "code",
   "execution_count": 26,
   "id": "e311c4e2",
   "metadata": {},
   "outputs": [
    {
     "name": "stdout",
     "output_type": "stream",
     "text": [
      "     user_id  duracion_total_llamadas\n",
      "0       1000                   116.83\n",
      "1       1001                  1640.46\n",
      "2       1002                   777.13\n",
      "3       1003                  1041.00\n",
      "4       1004                  2618.95\n",
      "..       ...                      ...\n",
      "476     1495                  1666.41\n",
      "477     1496                  1376.21\n",
      "478     1497                   276.53\n",
      "479     1498                  3029.97\n",
      "480     1499                  1450.31\n",
      "\n",
      "[481 rows x 2 columns]\n"
     ]
    }
   ],
   "source": [
    "duracion_total = calls.groupby('user_id')['duration'].sum().reset_index()\n",
    "duracion_total.rename(columns={'duration': 'duracion_total_llamadas'},inplace=True)\n",
    "print(duracion_total)"
   ]
  },
  {
   "cell_type": "markdown",
   "id": "a2d87bff",
   "metadata": {},
   "source": [
    "Vamos a convertir la columna ‘call_date’ en formato ‘datetime’ para posteriormente trabajar con ella"
   ]
  },
  {
   "cell_type": "code",
   "execution_count": 27,
   "id": "0efd4928",
   "metadata": {},
   "outputs": [
    {
     "name": "stdout",
     "output_type": "stream",
     "text": [
      "datetime64[ns]\n"
     ]
    }
   ],
   "source": [
    "calls['call_date'] = pd.to_datetime(calls['call_date'])\n",
    "print(calls['call_date'].dtype)"
   ]
  },
  {
   "cell_type": "markdown",
   "id": "13846504",
   "metadata": {},
   "source": [
    "<p style=\"color:yellow\n",
    "; font-family:Georgia; font-size:22px; font-style:italic;\"> MENSAJES. </p>"
   ]
  },
  {
   "cell_type": "code",
   "execution_count": 28,
   "id": "27210437",
   "metadata": {},
   "outputs": [
    {
     "name": "stdout",
     "output_type": "stream",
     "text": [
      "<class 'pandas.core.frame.DataFrame'>\n",
      "RangeIndex: 76051 entries, 0 to 76050\n",
      "Data columns (total 3 columns):\n",
      " #   Column        Non-Null Count  Dtype \n",
      "---  ------        --------------  ----- \n",
      " 0   id            76051 non-null  object\n",
      " 1   user_id       76051 non-null  int64 \n",
      " 2   message_date  76051 non-null  object\n",
      "dtypes: int64(1), object(2)\n",
      "memory usage: 1.7+ MB\n"
     ]
    }
   ],
   "source": [
    "messages.info()"
   ]
  },
  {
   "cell_type": "code",
   "execution_count": 29,
   "id": "141fac51",
   "metadata": {},
   "outputs": [
    {
     "name": "stdout",
     "output_type": "stream",
     "text": [
      "id              0\n",
      "user_id         0\n",
      "message_date    0\n",
      "dtype: int64\n"
     ]
    }
   ],
   "source": [
    "print(messages.isnull().sum())"
   ]
  },
  {
   "cell_type": "code",
   "execution_count": 30,
   "id": "2631710f",
   "metadata": {},
   "outputs": [
    {
     "data": {
      "text/plain": [
       "np.int64(0)"
      ]
     },
     "execution_count": 30,
     "metadata": {},
     "output_type": "execute_result"
    }
   ],
   "source": [
    "messages.duplicated().sum()"
   ]
  },
  {
   "cell_type": "code",
   "execution_count": 31,
   "id": "a053dd02",
   "metadata": {},
   "outputs": [
    {
     "name": "stdout",
     "output_type": "stream",
     "text": [
      "0\n"
     ]
    }
   ],
   "source": [
    "messages.drop_duplicates(inplace=True)\n",
    "print(messages.duplicated().sum())"
   ]
  },
  {
   "cell_type": "code",
   "execution_count": 32,
   "id": "7497e240",
   "metadata": {},
   "outputs": [
    {
     "data": {
      "text/html": [
       "<div>\n",
       "<style scoped>\n",
       "    .dataframe tbody tr th:only-of-type {\n",
       "        vertical-align: middle;\n",
       "    }\n",
       "\n",
       "    .dataframe tbody tr th {\n",
       "        vertical-align: top;\n",
       "    }\n",
       "\n",
       "    .dataframe thead th {\n",
       "        text-align: right;\n",
       "    }\n",
       "</style>\n",
       "<table border=\"1\" class=\"dataframe\">\n",
       "  <thead>\n",
       "    <tr style=\"text-align: right;\">\n",
       "      <th></th>\n",
       "      <th>id</th>\n",
       "      <th>user_id</th>\n",
       "      <th>message_date</th>\n",
       "    </tr>\n",
       "  </thead>\n",
       "  <tbody>\n",
       "    <tr>\n",
       "      <th>0</th>\n",
       "      <td>1000_125</td>\n",
       "      <td>1000</td>\n",
       "      <td>2018-12-27</td>\n",
       "    </tr>\n",
       "    <tr>\n",
       "      <th>1</th>\n",
       "      <td>1000_160</td>\n",
       "      <td>1000</td>\n",
       "      <td>2018-12-31</td>\n",
       "    </tr>\n",
       "    <tr>\n",
       "      <th>2</th>\n",
       "      <td>1000_223</td>\n",
       "      <td>1000</td>\n",
       "      <td>2018-12-31</td>\n",
       "    </tr>\n",
       "    <tr>\n",
       "      <th>3</th>\n",
       "      <td>1000_251</td>\n",
       "      <td>1000</td>\n",
       "      <td>2018-12-27</td>\n",
       "    </tr>\n",
       "    <tr>\n",
       "      <th>4</th>\n",
       "      <td>1000_255</td>\n",
       "      <td>1000</td>\n",
       "      <td>2018-12-26</td>\n",
       "    </tr>\n",
       "  </tbody>\n",
       "</table>\n",
       "</div>"
      ],
      "text/plain": [
       "         id  user_id message_date\n",
       "0  1000_125     1000   2018-12-27\n",
       "1  1000_160     1000   2018-12-31\n",
       "2  1000_223     1000   2018-12-31\n",
       "3  1000_251     1000   2018-12-27\n",
       "4  1000_255     1000   2018-12-26"
      ]
     },
     "execution_count": 32,
     "metadata": {},
     "output_type": "execute_result"
    }
   ],
   "source": [
    "messages.head()"
   ]
  },
  {
   "cell_type": "markdown",
   "id": "b0481ac1",
   "metadata": {},
   "source": [
    "Vamos a convertir la columna ‘message_date’ en formato ‘datetime’ para posteriormente trabajar con ella"
   ]
  },
  {
   "cell_type": "code",
   "execution_count": 33,
   "id": "7f5bbb0d",
   "metadata": {},
   "outputs": [
    {
     "name": "stdout",
     "output_type": "stream",
     "text": [
      "datetime64[ns]\n"
     ]
    }
   ],
   "source": [
    "messages['message_date'] = pd.to_datetime(messages['message_date'])\n",
    "print(messages['message_date'].dtype)"
   ]
  },
  {
   "cell_type": "markdown",
   "id": "2266c366",
   "metadata": {},
   "source": [
    "Vamos a calcular la cantidad de mensajes enviados por cada usuario al  mes"
   ]
  },
  {
   "cell_type": "code",
   "execution_count": 34,
   "id": "903f80e1",
   "metadata": {},
   "outputs": [
    {
     "name": "stdout",
     "output_type": "stream",
     "text": [
      "   user_id    month  message_count\n",
      "0     1000  2018-12             11\n",
      "1     1001  2018-08             30\n",
      "2     1001  2018-09             44\n",
      "3     1001  2018-10             53\n",
      "4     1001  2018-11             36\n"
     ]
    }
   ],
   "source": [
    "messages['month'] = messages['message_date'].dt.to_period('M')\n",
    "messages_sent_month = messages.groupby(['user_id', 'month']).agg(message_count=('id', 'count')).reset_index()\n",
    "print(messages_sent_month.head())"
   ]
  },
  {
   "cell_type": "markdown",
   "id": "36a91803",
   "metadata": {},
   "source": [
    "\n",
    "<p style=\"color:yellow\n",
    "; font-family:Georgia; font-size:22px; font-style:italic;\"> INTERNET </p>"
   ]
  },
  {
   "cell_type": "code",
   "execution_count": 35,
   "id": "c99fdcf3",
   "metadata": {},
   "outputs": [
    {
     "name": "stdout",
     "output_type": "stream",
     "text": [
      "<class 'pandas.core.frame.DataFrame'>\n",
      "RangeIndex: 104825 entries, 0 to 104824\n",
      "Data columns (total 4 columns):\n",
      " #   Column        Non-Null Count   Dtype  \n",
      "---  ------        --------------   -----  \n",
      " 0   id            104825 non-null  object \n",
      " 1   user_id       104825 non-null  int64  \n",
      " 2   session_date  104825 non-null  object \n",
      " 3   mb_used       104825 non-null  float64\n",
      "dtypes: float64(1), int64(1), object(2)\n",
      "memory usage: 3.2+ MB\n"
     ]
    }
   ],
   "source": [
    "internet.info()"
   ]
  },
  {
   "cell_type": "code",
   "execution_count": 36,
   "id": "b3cb4ba1",
   "metadata": {},
   "outputs": [
    {
     "name": "stdout",
     "output_type": "stream",
     "text": [
      "id              0\n",
      "user_id         0\n",
      "session_date    0\n",
      "mb_used         0\n",
      "dtype: int64\n"
     ]
    }
   ],
   "source": [
    "print(internet.isnull().sum())"
   ]
  },
  {
   "cell_type": "code",
   "execution_count": 37,
   "id": "440a05f7",
   "metadata": {},
   "outputs": [
    {
     "data": {
      "text/plain": [
       "np.int64(0)"
      ]
     },
     "execution_count": 37,
     "metadata": {},
     "output_type": "execute_result"
    }
   ],
   "source": [
    "internet.duplicated().sum()"
   ]
  },
  {
   "cell_type": "code",
   "execution_count": 38,
   "id": "80923230",
   "metadata": {},
   "outputs": [
    {
     "name": "stdout",
     "output_type": "stream",
     "text": [
      "0\n"
     ]
    }
   ],
   "source": [
    "internet.drop_duplicates(inplace=True)\n",
    "print(internet.duplicated().sum())"
   ]
  },
  {
   "cell_type": "code",
   "execution_count": 39,
   "id": "82fabaf1",
   "metadata": {},
   "outputs": [
    {
     "data": {
      "text/html": [
       "<div>\n",
       "<style scoped>\n",
       "    .dataframe tbody tr th:only-of-type {\n",
       "        vertical-align: middle;\n",
       "    }\n",
       "\n",
       "    .dataframe tbody tr th {\n",
       "        vertical-align: top;\n",
       "    }\n",
       "\n",
       "    .dataframe thead th {\n",
       "        text-align: right;\n",
       "    }\n",
       "</style>\n",
       "<table border=\"1\" class=\"dataframe\">\n",
       "  <thead>\n",
       "    <tr style=\"text-align: right;\">\n",
       "      <th></th>\n",
       "      <th>id</th>\n",
       "      <th>user_id</th>\n",
       "      <th>session_date</th>\n",
       "      <th>mb_used</th>\n",
       "    </tr>\n",
       "  </thead>\n",
       "  <tbody>\n",
       "    <tr>\n",
       "      <th>0</th>\n",
       "      <td>1000_13</td>\n",
       "      <td>1000</td>\n",
       "      <td>2018-12-29</td>\n",
       "      <td>89.86</td>\n",
       "    </tr>\n",
       "    <tr>\n",
       "      <th>1</th>\n",
       "      <td>1000_204</td>\n",
       "      <td>1000</td>\n",
       "      <td>2018-12-31</td>\n",
       "      <td>0.00</td>\n",
       "    </tr>\n",
       "    <tr>\n",
       "      <th>2</th>\n",
       "      <td>1000_379</td>\n",
       "      <td>1000</td>\n",
       "      <td>2018-12-28</td>\n",
       "      <td>660.40</td>\n",
       "    </tr>\n",
       "    <tr>\n",
       "      <th>3</th>\n",
       "      <td>1000_413</td>\n",
       "      <td>1000</td>\n",
       "      <td>2018-12-26</td>\n",
       "      <td>270.99</td>\n",
       "    </tr>\n",
       "    <tr>\n",
       "      <th>4</th>\n",
       "      <td>1000_442</td>\n",
       "      <td>1000</td>\n",
       "      <td>2018-12-27</td>\n",
       "      <td>880.22</td>\n",
       "    </tr>\n",
       "  </tbody>\n",
       "</table>\n",
       "</div>"
      ],
      "text/plain": [
       "         id  user_id session_date  mb_used\n",
       "0   1000_13     1000   2018-12-29    89.86\n",
       "1  1000_204     1000   2018-12-31     0.00\n",
       "2  1000_379     1000   2018-12-28   660.40\n",
       "3  1000_413     1000   2018-12-26   270.99\n",
       "4  1000_442     1000   2018-12-27   880.22"
      ]
     },
     "execution_count": 39,
     "metadata": {},
     "output_type": "execute_result"
    }
   ],
   "source": [
    "internet.head()"
   ]
  },
  {
   "cell_type": "markdown",
   "id": "603fb771",
   "metadata": {},
   "source": [
    "Vamos a convertir la columna ‘session_date’ en formato ‘datetime’ para posteriormente trabajar con ella"
   ]
  },
  {
   "cell_type": "code",
   "execution_count": 40,
   "id": "eb3ea19d",
   "metadata": {},
   "outputs": [
    {
     "name": "stdout",
     "output_type": "stream",
     "text": [
      "datetime64[ns]\n"
     ]
    }
   ],
   "source": [
    "internet['session_date'] = pd.to_datetime(internet['session_date'])\n",
    "print(internet['session_date'].dtype)"
   ]
  },
  {
   "cell_type": "markdown",
   "id": "e96b8404",
   "metadata": {},
   "source": [
    "Vamos a trabajar para obtener el uso promedio diario de internet en cada usuario"
   ]
  },
  {
   "cell_type": "code",
   "execution_count": 41,
   "id": "50e71277",
   "metadata": {},
   "outputs": [
    {
     "name": "stdout",
     "output_type": "stream",
     "text": [
      "       user_id session_date  daily_mb\n",
      "0         1000   2018-12-26    270.99\n",
      "1         1000   2018-12-27    880.22\n",
      "2         1000   2018-12-28    660.40\n",
      "3         1000   2018-12-29     89.86\n",
      "4         1000   2018-12-31      0.00\n",
      "...        ...          ...       ...\n",
      "49028     1499   2018-12-25    924.14\n",
      "49029     1499   2018-12-26    823.03\n",
      "49030     1499   2018-12-29   2385.78\n",
      "49031     1499   2018-12-30    304.72\n",
      "49032     1499   2018-12-31    192.03\n",
      "\n",
      "[49033 rows x 3 columns]\n"
     ]
    }
   ],
   "source": [
    "avg_daily_usage = internet.groupby(['user_id', 'session_date']).agg(daily_mb=('mb_used', 'sum')).reset_index()\n",
    "print(avg_daily_usage)"
   ]
  },
  {
   "cell_type": "markdown",
   "id": "dc3d24e8",
   "metadata": {},
   "source": [
    "Trabajaremos para obtener los mb usados por mes por el usuario"
   ]
  },
  {
   "cell_type": "code",
   "execution_count": 42,
   "id": "907dbd1a",
   "metadata": {},
   "outputs": [
    {
     "name": "stdout",
     "output_type": "stream",
     "text": [
      "     user_id   total_mb\n",
      "0       1000    1901.47\n",
      "1       1001   80437.94\n",
      "2       1002   40293.33\n",
      "3       1003   27044.14\n",
      "4       1004  156352.81\n",
      "..       ...        ...\n",
      "484     1495   98890.96\n",
      "485     1496   64268.64\n",
      "486     1497   11106.55\n",
      "487     1498  227525.13\n",
      "488     1499   71350.23\n",
      "\n",
      "[489 rows x 2 columns]\n"
     ]
    }
   ],
   "source": [
    "total_usage = internet.groupby('user_id').agg(total_mb=('mb_used', 'sum')).reset_index()\n",
    "print(total_usage)"
   ]
  },
  {
   "cell_type": "markdown",
   "id": "7bd036b8",
   "metadata": {},
   "source": [
    "Trabajaremos con los datos por Usuario y los iremos agregando"
   ]
  },
  {
   "cell_type": "markdown",
   "id": "1e5be2c5",
   "metadata": {},
   "source": [
    "Vamos a agregar los datos por usuario y por periodo para que solo exista un registro por usuario y por periodo. \n",
    "Esto nos facilitará mucho el análisis posterior de los Datos."
   ]
  },
  {
   "cell_type": "code",
   "execution_count": 43,
   "id": "1dd78725",
   "metadata": {},
   "outputs": [
    {
     "name": "stdout",
     "output_type": "stream",
     "text": [
      "   user_id   period first_name  last_name  age      plan\n",
      "0     1000  2018-12   Anamaria      Bauer   45  ultimate\n",
      "1     1001  2018-08     Mickey  Wilkerson   28      surf\n",
      "2     1002  2018-10     Carlee    Hoffman   36      surf\n",
      "3     1003  2018-01   Reynaldo    Jenkins   52      surf\n",
      "4     1004  2018-05    Leonila   Thompson   40      surf\n",
      "5     1005  2018-11      Livia    Shields   31      surf\n",
      "6     1006  2018-11     Jesusa   Bradford   73  ultimate\n",
      "7     1007  2018-07    Eusebio      Welch   42      surf\n",
      "8     1008  2018-08      Emely    Hoffman   53  ultimate\n",
      "9     1009  2018-04      Gerry     Little   19      surf\n"
     ]
    }
   ],
   "source": [
    "users['reg_date'] = pd.to_datetime(users['reg_date'])\n",
    "users['churn_date'] = pd.to_datetime(users['churn_date'])\n",
    "users['period'] = users['reg_date'].dt.to_period('M')\n",
    "data_group = users.groupby(['user_id', 'period']).agg({'first_name':'first','last_name': 'first','age': 'first', 'plan': 'first',}).reset_index()\n",
    "print(data_group.head(10))"
   ]
  },
  {
   "cell_type": "markdown",
   "id": "e5e8bc0a",
   "metadata": {},
   "source": [
    "Vamos a calcular el número de llamadas hechas por cada usuario al mes. "
   ]
  },
  {
   "cell_type": "code",
   "execution_count": 44,
   "id": "de8794e3",
   "metadata": {},
   "outputs": [
    {
     "name": "stdout",
     "output_type": "stream",
     "text": [
      "   user_id    month  call_count\n",
      "0     1000  2018-12          16\n",
      "1     1001  2018-08          27\n",
      "2     1001  2018-09          49\n",
      "3     1001  2018-10          65\n",
      "4     1001  2018-11          64\n"
     ]
    }
   ],
   "source": [
    "calls['month'] = calls['call_date'].dt.to_period('M')\n",
    "month_calls = calls.groupby(['user_id', 'month']).size().reset_index(name='call_count')\n",
    "print(month_calls.head())"
   ]
  },
  {
   "cell_type": "markdown",
   "id": "18bea0a5",
   "metadata": {},
   "source": [
    "Vamos a calcular el número de mensajes enviados por cada usuario al mes"
   ]
  },
  {
   "cell_type": "code",
   "execution_count": 45,
   "id": "ec5591d9",
   "metadata": {},
   "outputs": [
    {
     "name": "stdout",
     "output_type": "stream",
     "text": [
      "   user_id    month  total_messages\n",
      "0     1000  2018-12              11\n",
      "1     1001  2018-08              30\n",
      "2     1001  2018-09              44\n",
      "3     1001  2018-10              53\n",
      "4     1001  2018-11              36\n",
      "5     1001  2018-12              44\n",
      "6     1002  2018-10              15\n",
      "7     1002  2018-11              32\n",
      "8     1002  2018-12              41\n",
      "9     1003  2018-12              50\n"
     ]
    }
   ],
   "source": [
    "messages_month = messages.groupby(['user_id', 'month']).agg(total_messages=('id', 'count')).reset_index()\n",
    "print(messages_month.head(10))"
   ]
  },
  {
   "cell_type": "markdown",
   "id": "2ee711f4",
   "metadata": {},
   "source": [
    "Vamos a calcular el volumen del tráfico de Internet usado por cada usuario al mes"
   ]
  },
  {
   "cell_type": "code",
   "execution_count": 46,
   "id": "d2b11aec",
   "metadata": {},
   "outputs": [
    {
     "name": "stdout",
     "output_type": "stream",
     "text": [
      "      user_id    month  volume_internet_traffic\n",
      "0        1000  2018-12                  1901.47\n",
      "1        1001  2018-08                  6919.15\n",
      "2        1001  2018-09                 13314.82\n",
      "3        1001  2018-10                 22330.49\n",
      "4        1001  2018-11                 18504.30\n",
      "...       ...      ...                      ...\n",
      "2272     1498  2018-12                 23137.69\n",
      "2273     1499  2018-09                 12984.76\n",
      "2274     1499  2018-10                 19492.43\n",
      "2275     1499  2018-11                 16813.83\n",
      "2276     1499  2018-12                 22059.21\n",
      "\n",
      "[2277 rows x 3 columns]\n"
     ]
    }
   ],
   "source": [
    "internet['month'] = internet['session_date'].dt.to_period('M')\n",
    "volume_internet_traffic = internet.groupby(['user_id', 'month']).agg(volume_internet_traffic=('mb_used', 'sum')).reset_index()\n",
    "print(volume_internet_traffic)"
   ]
  },
  {
   "cell_type": "markdown",
   "id": "cd5be627",
   "metadata": {},
   "source": [
    " Vamos a Fusionar los datos de llamadas, minutos, mensajes e Internet con base en: user_id y month"
   ]
  },
  {
   "cell_type": "code",
   "execution_count": 47,
   "id": "666ff03b",
   "metadata": {},
   "outputs": [
    {
     "name": "stdout",
     "output_type": "stream",
     "text": [
      "   user_id    month  call_count  total_minutes  message_count  compil_internet\n",
      "0     1000  2018-12        16.0         116.83           11.0          1901.47\n",
      "1     1001  2018-08        27.0         171.14           30.0          6919.15\n",
      "2     1001  2018-09        49.0         297.69           44.0         13314.82\n",
      "3     1001  2018-10        65.0         374.11           53.0         22330.49\n",
      "4     1001  2018-11        64.0         404.59           36.0         18504.30\n"
     ]
    }
   ],
   "source": [
    "group_calls = calls.groupby(['user_id', 'month']).agg(call_count=('call_date','count')).reset_index()\n",
    "group_minutes = calls.groupby(['user_id', 'month']).agg(total_minutes=('duration', 'sum')).reset_index()\n",
    "merged_data = pd.merge(group_calls, group_minutes, on=['user_id', 'month'],how='outer')\n",
    "\n",
    "group_messages = messages.groupby(['user_id', 'month']).agg(message_count=('message_date', 'count')).reset_index()\n",
    "merged_data_1 = pd.merge(merged_data, group_messages, on=['user_id', 'month'],how='outer')\n",
    "\n",
    "group_internet = internet.groupby(['user_id', 'month']).agg(compil_internet = ('mb_used', 'sum')).reset_index()\n",
    "merged_data_2 = pd.merge(merged_data_1, group_internet, on=['user_id','month'],how='outer')\n",
    "\n",
    "merged_data_2_filled = merged_data_2.fillna(0)\n",
    "\n",
    "print(merged_data_2_filled.head())"
   ]
  },
  {
   "cell_type": "markdown",
   "id": "135ee811",
   "metadata": {},
   "source": [
    "Ahora lo que haremos será redondear hacía ariba los datos para al momento de hacer los calculos\n",
    "sea más facil"
   ]
  },
  {
   "cell_type": "code",
   "execution_count": 48,
   "id": "a1485f2f",
   "metadata": {},
   "outputs": [
    {
     "name": "stdout",
     "output_type": "stream",
     "text": [
      "   user_id    month  call_count  total_minutes  message_count  compil_internet\n",
      "0     1000  2018-12        16.0         116.83           11.0          1901.47\n",
      "1     1001  2018-08        27.0         171.14           30.0          6919.15\n",
      "2     1001  2018-09        49.0         297.69           44.0         13314.82\n",
      "3     1001  2018-10        65.0         374.11           53.0         22330.49\n",
      "4     1001  2018-11        64.0         404.59           36.0         18504.30\n"
     ]
    }
   ],
   "source": [
    "new_columns = ['call_count', 'total_minutes', 'message_count','compil_internet']\n",
    "for col in new_columns:\n",
    "                        merged_data_2[col] = merged_data_2_filled[col].fillna(0).apply(np.ceil).astype(int)\n",
    "print(merged_data_2_filled.head())"
   ]
  },
  {
   "cell_type": "markdown",
   "id": "6822e506",
   "metadata": {},
   "source": [
    "Se realizara modificaciones en los Df para seguir trbajando y obtener la mejor información"
   ]
  },
  {
   "cell_type": "code",
   "execution_count": 49,
   "id": "de4414a6",
   "metadata": {},
   "outputs": [
    {
     "name": "stdout",
     "output_type": "stream",
     "text": [
      "   user_id    month  call_count  total_minutes  message_count  \\\n",
      "0     1000  2018-12        16.0         116.83           11.0   \n",
      "1     1001  2018-08        27.0         171.14           30.0   \n",
      "2     1001  2018-09        49.0         297.69           44.0   \n",
      "3     1001  2018-10        65.0         374.11           53.0   \n",
      "4     1001  2018-11        64.0         404.59           36.0   \n",
      "\n",
      "   compil_internet      plan  \n",
      "0          1901.47  ultimate  \n",
      "1          6919.15      surf  \n",
      "2         13314.82      surf  \n",
      "3         22330.49      surf  \n",
      "4         18504.30      surf  \n"
     ]
    }
   ],
   "source": [
    "user_1 = users[['user_id','plan']]\n",
    "union_data = pd.merge(merged_data_2_filled,user_1, on='user_id', how='outer')\n",
    "print(union_data.head())"
   ]
  },
  {
   "cell_type": "markdown",
   "id": "71b5f507",
   "metadata": {},
   "source": [
    "Se va a añadir la información de la tarifa "
   ]
  },
  {
   "cell_type": "code",
   "execution_count": 50,
   "id": "02459ca5",
   "metadata": {},
   "outputs": [
    {
     "name": "stdout",
     "output_type": "stream",
     "text": [
      "   user_id    month  call_count  total_minutes  message_count  \\\n",
      "0     1000  2018-12        16.0         116.83           11.0   \n",
      "1     1001  2018-08        27.0         171.14           30.0   \n",
      "2     1001  2018-09        49.0         297.69           44.0   \n",
      "3     1001  2018-10        65.0         374.11           53.0   \n",
      "4     1001  2018-11        64.0         404.59           36.0   \n",
      "\n",
      "   compil_internet  messages_included  mb_per_month_included  \\\n",
      "0          1901.47               1000                  30720   \n",
      "1          6919.15                 50                  15360   \n",
      "2         13314.82                 50                  15360   \n",
      "3         22330.49                 50                  15360   \n",
      "4         18504.30                 50                  15360   \n",
      "\n",
      "   minutes_included  usd_monthly_pay  usd_per_gb  usd_per_message  \\\n",
      "0              3000               70           7             0.01   \n",
      "1               500               20          10             0.03   \n",
      "2               500               20          10             0.03   \n",
      "3               500               20          10             0.03   \n",
      "4               500               20          10             0.03   \n",
      "\n",
      "   usd_per_minute    efficiency type_plan  \n",
      "0            0.01  1.316571e+06  ultimate  \n",
      "1            0.03  3.840000e+05      surf  \n",
      "2            0.03  3.840000e+05      surf  \n",
      "3            0.03  3.840000e+05      surf  \n",
      "4            0.03  3.840000e+05      surf  \n"
     ]
    }
   ],
   "source": [
    "final_data = pd.merge(union_data, plans, left_on='plan', right_on='plan_name', how='left')\n",
    "final_data['type_plan'] = final_data.apply(lambda row: row['plan']\n",
    "                                            if pd.notnull(row['plan']) else row['plan_name'], axis=1)\n",
    "final_data.drop(columns=['plan', 'plan_name'], inplace=True)\n",
    "print(final_data.head())"
   ]
  },
  {
   "cell_type": "markdown",
   "id": "2fd909ae",
   "metadata": {},
   "source": [
    "Vamos a calcular los ingresos mensuales por usuario, se va a restar el límite del paquete gratuito del número total de llamadas, mensajes de texto y datos; se va a multiplicar el resultado por el valor del plan de llamadas.\n",
    "Se añadirá la tarifa mensual en función del plan de llamadas"
   ]
  },
  {
   "cell_type": "code",
   "execution_count": 51,
   "id": "71d9e0a6",
   "metadata": {},
   "outputs": [
    {
     "name": "stdout",
     "output_type": "stream",
     "text": [
      "   user_id  extra_charges  usd_monthly_pay\n",
      "0     1000           0.00               70\n",
      "1     1001           0.00               20\n",
      "2     1001           0.00               20\n",
      "3     1001       69704.99               20\n",
      "4     1001       31443.00               20\n",
      "5     1001       40091.80               20\n",
      "6     1002           0.00               20\n",
      "7     1002       39850.80               20\n",
      "8     1002           0.00               20\n",
      "9     1003      116857.63               20\n"
     ]
    }
   ],
   "source": [
    "final_data = pd.merge(union_data, plans, left_on='plan', right_on='plan_name', how='left')\n",
    "\n",
    "final_data['type_plan'] = final_data.apply(lambda row: row['plan']\n",
    "                                            if pd.notnull(row['plan']) else row['plan_name'], axis=1)\n",
    "\n",
    "final_data.drop(columns=['plan', 'plan_name'], inplace=True)\n",
    "\n",
    "final_data['extra_calls'] = (final_data['total_minutes'] - final_data['minutes_included']).clip(lower=0)\n",
    "final_data['extra_texts'] = (final_data['message_count'] - final_data['messages_included']).clip(lower=0)\n",
    "final_data['extra_dates'] = (final_data['compil_internet'] - final_data['mb_per_month_included']).clip(lower=0)\n",
    " \n",
    "final_data['extra_charges'] = (final_data['extra_calls'] * final_data['usd_per_minute'] +\n",
    "                               final_data['extra_texts'] * final_data['usd_per_message'] +\n",
    "                               final_data['extra_dates'] *final_data['usd_per_gb'])\n",
    "\n",
    "print(final_data[['user_id', 'extra_charges', 'usd_monthly_pay']].head(10)) "
   ]
  },
  {
   "cell_type": "markdown",
   "id": "1f4fe47a",
   "metadata": {},
   "source": [
    "#### Ahora vamos a estudiar el comportamiento de usuario"
   ]
  },
  {
   "cell_type": "markdown",
   "id": "85996964",
   "metadata": {},
   "source": [
    "#### Llamadas"
   ]
  },
  {
   "cell_type": "markdown",
   "id": "7946e321",
   "metadata": {},
   "source": [
    "Vamos a comparar la duración promedio de llamadas por cada plan y por cada mes. \n",
    "Traza un gráfico de barras para visualizarla."
   ]
  },
  {
   "cell_type": "code",
   "execution_count": null,
   "id": "0491c6d8",
   "metadata": {},
   "outputs": [],
   "source": []
  },
  {
   "cell_type": "markdown",
   "id": "3c800260",
   "metadata": {},
   "source": [
    "Compara el número de minutos mensuales que necesitan los usuarios de cada plan. Traza un histograma."
   ]
  },
  {
   "cell_type": "code",
   "execution_count": null,
   "id": "3984bf1e",
   "metadata": {},
   "outputs": [],
   "source": []
  },
  {
   "cell_type": "markdown",
   "id": "3a26a339",
   "metadata": {},
   "source": [
    "Calcula la media y la variable de la duración de las llamadas para averiguar si los usuarios de los distintos planes se comportan de forma diferente al realizar sus llamadas.]"
   ]
  },
  {
   "cell_type": "code",
   "execution_count": 52,
   "id": "1b274866",
   "metadata": {},
   "outputs": [
    {
     "name": "stdout",
     "output_type": "stream",
     "text": [
      "60.06759703445268\n",
      "1049.9260569195724\n"
     ]
    }
   ],
   "source": [
    "mean_calls = final_data['call_count'].mean()\n",
    "var_calls = final_data['call_count'].var()\n",
    "print(mean_calls)\n",
    "print(var_calls)\n",
    "\n"
   ]
  },
  {
   "cell_type": "markdown",
   "id": "05b79ea3",
   "metadata": {},
   "source": [
    "Traza un diagrama de caja para visualizar la distribución de la duración mensual de llamadas."
   ]
  },
  {
   "cell_type": "code",
   "execution_count": 53,
   "id": "fd6d11c0",
   "metadata": {},
   "outputs": [
    {
     "data": {
      "text/plain": [
       "<Figure size 400x300 with 0 Axes>"
      ]
     },
     "metadata": {},
     "output_type": "display_data"
    },
    {
     "data": {
      "image/png": "[encoded data removed]",
      "text/plain": [
       "<Figure size 640x480 with 1 Axes>"
      ]
     },
     "metadata": {},
     "output_type": "display_data"
    }
   ],
   "source": [
    "plt.figure(figsize=(4, 3))\n",
    "final_data.boxplot(column='call_count', by='type_plan', grid=False, patch_artist=True)\n",
    "plt.title('Distribución de llamadas Mensual por Tipo de Plan')\n",
    "plt.suptitle('')  \n",
    "plt.xlabel('Tipo de Plan')\n",
    "plt.ylabel('llamadas por Mes')\n",
    "plt.show()"
   ]
  },
  {
   "cell_type": "markdown",
   "id": "0d47ead9",
   "metadata": {},
   "source": [
    "### Mensajes"
   ]
  },
  {
   "cell_type": "markdown",
   "id": "e7246888",
   "metadata": {},
   "source": [
    "Comprara el número de mensajes que tienden a enviar cada mes los usuarios de cada plan"
   ]
  },
  {
   "cell_type": "code",
   "execution_count": 54,
   "id": "ed019dea",
   "metadata": {},
   "outputs": [
    {
     "data": {
      "image/png": "[encoded data removed]",
      "text/plain": [
       "<Figure size 1000x600 with 1 Axes>"
      ]
     },
     "metadata": {},
     "output_type": "display_data"
    }
   ],
   "source": [
    "number_messages = final_data.groupby(['type_plan', 'month'])['message_count'].mean().reset_index()\n",
    "pivot_messages = number_messages.pivot(index='month', columns='type_plan', values='message_count')\n",
    "\n",
    "pivot_messages.plot(kind='bar', figsize=(10, 6))\n",
    "\n",
    "plt.title(\"Comparación de Mensajes por Mes\")\n",
    "plt.xlabel(\"Mes\")\n",
    "plt.ylabel(\"Número de Mensajes\")\n",
    "plt.legend(title=\"Planes\")\n",
    "plt.tight_layout()\n",
    "plt.show()"
   ]
  },
  {
   "cell_type": "markdown",
   "id": "ff848957",
   "metadata": {},
   "source": [
    "Compara la cantidad de tráfico de Internet consumido por usuarios por plan"
   ]
  },
  {
   "cell_type": "code",
   "execution_count": 55,
   "id": "bd80c017",
   "metadata": {},
   "outputs": [
    {
     "data": {
      "image/png": "[encoded data removed]",
      "text/plain": [
       "<Figure size 1000x600 with 1 Axes>"
      ]
     },
     "metadata": {},
     "output_type": "display_data"
    }
   ],
   "source": [
    "internet_traffic = final_data.groupby(['type_plan', 'month'])['compil_internet'].mean().reset_index()\n",
    "pivot_internet = internet_traffic.pivot(index='month', columns='type_plan', values='compil_internet')\n",
    "\n",
    "pivot_messages.plot(kind='bar', figsize=(10, 6))\n",
    "\n",
    "plt.title(\"Comparación de Trafico de Internet por Mes\")\n",
    "plt.xlabel(\"Mes\")\n",
    "plt.ylabel(\"Internet\")\n",
    "plt.legend(title=\"Planes\")\n",
    "plt.tight_layout()\n",
    "plt.show()"
   ]
  },
  {
   "cell_type": "markdown",
   "id": "c14f6d6c",
   "metadata": {},
   "source": [
    "#### Internet"
   ]
  },
  {
   "cell_type": "markdown",
   "id": "c52f7ae6",
   "metadata": {},
   "source": []
  }
 ],
 "metadata": {
  "kernelspec": {
   "display_name": "Python 3",
   "language": "python",
   "name": "python3"
  },
  "language_info": {
   "codemirror_mode": {
    "name": "ipython",
    "version": 3
   },
   "file_extension": ".py",
   "mimetype": "text/x-python",
   "name": "python",
   "nbconvert_exporter": "python",
   "pygments_lexer": "ipython3",
   "version": "3.13.3"
  }
 },
 "nbformat": 4,
 "nbformat_minor": 5
}
