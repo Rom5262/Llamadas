{
 "cells": [
  {
   "cell_type": "code",
   "execution_count": null,
   "id": "352a8a14",
   "metadata": {},
   "outputs": [],
   "source": []
  },
  {
   "cell_type": "code",
   "execution_count": 13,
   "id": "f160052e",
   "metadata": {},
   "outputs": [],
   "source": [
    "import pandas as pd\n",
    "import seaborn as sns\n",
    "from matplotlib import pyplot as plt\n",
    "from math import factorial\n",
    "import numpy as np\n",
    "from scipy import stats as st"
   ]
  },
  {
   "cell_type": "code",
   "execution_count": 14,
   "id": "f3bf4491",
   "metadata": {},
   "outputs": [],
   "source": [
    "calls= pd.read_csv('megaline_calls.csv')"
   ]
  },
  {
   "cell_type": "code",
   "execution_count": 15,
   "id": "9be379b7",
   "metadata": {},
   "outputs": [
    {
     "data": {
      "text/plain": [
       "1"
      ]
     },
     "execution_count": 15,
     "metadata": {},
     "output_type": "execute_result"
    }
   ],
   "source": [
    "internet = pd.read_csv('megaline_internet.csv')\n",
    "1"
   ]
  },
  {
   "cell_type": "code",
   "execution_count": 16,
   "id": "7e93c4dc",
   "metadata": {},
   "outputs": [],
   "source": [
    "messages = pd.read_csv('megaline_messages.csv')"
   ]
  },
  {
   "cell_type": "code",
   "execution_count": 17,
   "id": "cec7d1ab",
   "metadata": {},
   "outputs": [],
   "source": [
    "plans = pd.read_csv('megaline_plans.csv')"
   ]
  },
  {
   "cell_type": "code",
   "execution_count": 18,
   "id": "5049e36d",
   "metadata": {},
   "outputs": [],
   "source": [
    "users = pd.read_csv('megaline_users.csv')"
   ]
  },
  {
   "cell_type": "markdown",
   "id": "9de474ed",
   "metadata": {},
   "source": [
    "<p style=\"color:yellow\n",
    "; font-family:Georgia; font-size:22px; font-style:italic;\"> TARIFAS. </p>\n"
   ]
  },
  {
   "cell_type": "code",
   "execution_count": 19,
   "id": "a8ebd303",
   "metadata": {},
   "outputs": [
    {
     "name": "stdout",
     "output_type": "stream",
     "text": [
      "<class 'pandas.core.frame.DataFrame'>\n",
      "RangeIndex: 2 entries, 0 to 1\n",
      "Data columns (total 8 columns):\n",
      " #   Column                 Non-Null Count  Dtype  \n",
      "---  ------                 --------------  -----  \n",
      " 0   messages_included      2 non-null      int64  \n",
      " 1   mb_per_month_included  2 non-null      int64  \n",
      " 2   minutes_included       2 non-null      int64  \n",
      " 3   usd_monthly_pay        2 non-null      int64  \n",
      " 4   usd_per_gb             2 non-null      int64  \n",
      " 5   usd_per_message        2 non-null      float64\n",
      " 6   usd_per_minute         2 non-null      float64\n",
      " 7   plan_name              2 non-null      object \n",
      "dtypes: float64(2), int64(5), object(1)\n",
      "memory usage: 260.0+ bytes\n"
     ]
    }
   ],
   "source": [
    "plans.info()"
   ]
  },
  {
   "cell_type": "code",
   "execution_count": 20,
   "id": "a573cc89",
   "metadata": {},
   "outputs": [
    {
     "data": {
      "text/html": [
       "<div>\n",
       "<style scoped>\n",
       "    .dataframe tbody tr th:only-of-type {\n",
       "        vertical-align: middle;\n",
       "    }\n",
       "\n",
       "    .dataframe tbody tr th {\n",
       "        vertical-align: top;\n",
       "    }\n",
       "\n",
       "    .dataframe thead th {\n",
       "        text-align: right;\n",
       "    }\n",
       "</style>\n",
       "<table border=\"1\" class=\"dataframe\">\n",
       "  <thead>\n",
       "    <tr style=\"text-align: right;\">\n",
       "      <th></th>\n",
       "      <th>messages_included</th>\n",
       "      <th>mb_per_month_included</th>\n",
       "      <th>minutes_included</th>\n",
       "      <th>usd_monthly_pay</th>\n",
       "      <th>usd_per_gb</th>\n",
       "      <th>usd_per_message</th>\n",
       "      <th>usd_per_minute</th>\n",
       "      <th>plan_name</th>\n",
       "    </tr>\n",
       "  </thead>\n",
       "  <tbody>\n",
       "    <tr>\n",
       "      <th>0</th>\n",
       "      <td>50</td>\n",
       "      <td>15360</td>\n",
       "      <td>500</td>\n",
       "      <td>20</td>\n",
       "      <td>10</td>\n",
       "      <td>0.03</td>\n",
       "      <td>0.03</td>\n",
       "      <td>surf</td>\n",
       "    </tr>\n",
       "    <tr>\n",
       "      <th>1</th>\n",
       "      <td>1000</td>\n",
       "      <td>30720</td>\n",
       "      <td>3000</td>\n",
       "      <td>70</td>\n",
       "      <td>7</td>\n",
       "      <td>0.01</td>\n",
       "      <td>0.01</td>\n",
       "      <td>ultimate</td>\n",
       "    </tr>\n",
       "  </tbody>\n",
       "</table>\n",
       "</div>"
      ],
      "text/plain": [
       "   messages_included  mb_per_month_included  minutes_included  \\\n",
       "0                 50                  15360               500   \n",
       "1               1000                  30720              3000   \n",
       "\n",
       "   usd_monthly_pay  usd_per_gb  usd_per_message  usd_per_minute plan_name  \n",
       "0               20          10             0.03            0.03      surf  \n",
       "1               70           7             0.01            0.01  ultimate  "
      ]
     },
     "execution_count": 20,
     "metadata": {},
     "output_type": "execute_result"
    }
   ],
   "source": [
    "plans.head()"
   ]
  },
  {
   "cell_type": "code",
   "execution_count": 21,
   "id": "97818197",
   "metadata": {},
   "outputs": [
    {
     "name": "stdout",
     "output_type": "stream",
     "text": [
      "messages_included        0\n",
      "mb_per_month_included    0\n",
      "minutes_included         0\n",
      "usd_monthly_pay          0\n",
      "usd_per_gb               0\n",
      "usd_per_message          0\n",
      "usd_per_minute           0\n",
      "plan_name                0\n",
      "dtype: int64\n"
     ]
    }
   ],
   "source": [
    "print(plans.isnull().sum())"
   ]
  },
  {
   "cell_type": "code",
   "execution_count": 22,
   "id": "3fbf2448",
   "metadata": {},
   "outputs": [
    {
     "data": {
      "text/plain": [
       "np.int64(0)"
      ]
     },
     "execution_count": 22,
     "metadata": {},
     "output_type": "execute_result"
    }
   ],
   "source": [
    "plans.duplicated().sum()"
   ]
  },
  {
   "cell_type": "code",
   "execution_count": null,
   "id": "66cc5d7b",
   "metadata": {},
   "outputs": [],
   "source": []
  },
  {
   "cell_type": "markdown",
   "id": "4707de1e",
   "metadata": {},
   "source": [
    "Colocaremos la columna de \"plan_name\" como la primera"
   ]
  },
  {
   "cell_type": "code",
   "execution_count": 25,
   "id": "026128a7",
   "metadata": {},
   "outputs": [
    {
     "name": "stdout",
     "output_type": "stream",
     "text": [
      "  plan_name  messages_included  mb_per_month_included  minutes_included  \\\n",
      "0      surf                 50                  15360               500   \n",
      "1  ultimate               1000                  30720              3000   \n",
      "\n",
      "   usd_monthly_pay  usd_per_gb  usd_per_message  usd_per_minute  \n",
      "0               20          10             0.03            0.03  \n",
      "1               70           7             0.01            0.01  \n"
     ]
    }
   ],
   "source": [
    "columns = ['plan_name'] + [col for col in plans.columns if col != 'plan_name']\n",
    "plans = plans[columns]\n",
    "print(plans)"
   ]
  },
  {
   "cell_type": "markdown",
   "id": "a3d32cae",
   "metadata": {},
   "source": [
    "Verificaremos la Eficiencia de cadas plan tarifario"
   ]
  },
  {
   "cell_type": "code",
   "execution_count": null,
   "id": "aec7286b",
   "metadata": {},
   "outputs": [],
   "source": [
    "plans['efficiency'] = (plans['mb_per_month_included'] *␣\n",
    "↪plans['minutes_included']) / plans['usd_monthly_pay']\n",
    "print(plans['efficiency'])"
   ]
  }
 ],
 "metadata": {
  "kernelspec": {
   "display_name": "Python 3",
   "language": "python",
   "name": "python3"
  },
  "language_info": {
   "codemirror_mode": {
    "name": "ipython",
    "version": 3
   },
   "file_extension": ".py",
   "mimetype": "text/x-python",
   "name": "python",
   "nbconvert_exporter": "python",
   "pygments_lexer": "ipython3",
   "version": "3.13.3"
  }
 },
 "nbformat": 4,
 "nbformat_minor": 5
}
